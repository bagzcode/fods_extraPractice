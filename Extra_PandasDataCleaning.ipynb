{
  "nbformat": 4,
  "nbformat_minor": 0,
  "metadata": {
    "colab": {
      "provenance": [],
      "collapsed_sections": []
    },
    "kernelspec": {
      "name": "python3",
      "display_name": "Python 3"
    },
    "language_info": {
      "name": "python"
    }
  },
  "cells": [
    {
      "cell_type": "markdown",
      "source": [
        "Please download the dataset from: https://www.kaggle.com/datasets/aparnashastry/building-permit-applications-data"
      ],
      "metadata": {
        "id": "ZaCt_lZnHgZm"
      }
    },
    {
      "cell_type": "code",
      "execution_count": null,
      "metadata": {
        "id": "ekJYECcwHdXj"
      },
      "outputs": [],
      "source": [
        "# import numpy and pandas\n",
        "\n",
        "\n",
        "\n",
        "\n",
        "# read in the San Francisco building permits data stored it in dataframe\n",
        "\n"
      ]
    },
    {
      "cell_type": "code",
      "source": [
        "# 1. practice slice the data: select the specific rows"
      ],
      "metadata": {
        "id": "MEFPfu0OIH_q"
      },
      "execution_count": null,
      "outputs": []
    },
    {
      "cell_type": "code",
      "source": [
        "# 2. practice slice the data: select the column"
      ],
      "metadata": {
        "id": "jutlGjz-H38M"
      },
      "execution_count": null,
      "outputs": []
    },
    {
      "cell_type": "code",
      "source": [
        "# 3. practice filtering the data, select by specific conditions"
      ],
      "metadata": {
        "id": "9UjViFB9IANQ"
      },
      "execution_count": null,
      "outputs": []
    },
    {
      "cell_type": "code",
      "source": [
        "# 4. practice plotting the data with line plot / bar plot / scatter plot / histogram plot"
      ],
      "metadata": {
        "id": "L1Gk8CQNI7sF"
      },
      "execution_count": null,
      "outputs": []
    },
    {
      "cell_type": "code",
      "source": [
        "# 5. practice break the table into several dataframes with key"
      ],
      "metadata": {
        "id": "4hzvrczbKj3o"
      },
      "execution_count": null,
      "outputs": []
    },
    {
      "cell_type": "code",
      "source": [
        "# 6. practice join/merge back the table based on a specific key"
      ],
      "metadata": {
        "id": "OE1dpws6LYAt"
      },
      "execution_count": null,
      "outputs": []
    },
    {
      "cell_type": "code",
      "source": [
        "# 7. find out what percent of the dataset is missing"
      ],
      "metadata": {
        "id": "CqRBseQ0Ld3j"
      },
      "execution_count": null,
      "outputs": []
    },
    {
      "cell_type": "code",
      "source": [
        "# 8. show the statistics of the dataset"
      ],
      "metadata": {
        "id": "hnZ9EC6DLkTb"
      },
      "execution_count": null,
      "outputs": []
    },
    {
      "cell_type": "code",
      "source": [
        "# 9. look at the specific columns, please check the percentage of missingness."
      ],
      "metadata": {
        "id": "9TFylkNuLsNw"
      },
      "execution_count": null,
      "outputs": []
    },
    {
      "cell_type": "code",
      "source": [
        "# 10. Try removing all the rows from the dataset that contain missing values. How many are left?"
      ],
      "metadata": {
        "id": "aYpyknvmL27t"
      },
      "execution_count": null,
      "outputs": []
    },
    {
      "cell_type": "code",
      "source": [
        "# 11. Now try removing all the columns with empty values. Now how much of your data is left?"
      ],
      "metadata": {
        "id": "8HTc8ErVMtbL"
      },
      "execution_count": null,
      "outputs": []
    },
    {
      "cell_type": "code",
      "source": [
        "# 12. Try replacing all the NaN's in the dataset with the one that comes directly after it and then [replace all the remaining na's with most_frequent]. Hint use: sklearn.impute"
      ],
      "metadata": {
        "id": "vKZ601qsNMTr"
      },
      "execution_count": null,
      "outputs": []
    },
    {
      "cell_type": "code",
      "source": [
        "# 13. How to detect the outlier: use pandas.DataFrame.quantile (please read the documentation)"
      ],
      "metadata": {
        "id": "18UHZTWHNdLx"
      },
      "execution_count": null,
      "outputs": []
    }
  ]
}